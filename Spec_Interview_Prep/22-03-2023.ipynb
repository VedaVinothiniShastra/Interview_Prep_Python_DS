{
 "cells": [
  {
   "cell_type": "markdown",
   "id": "bc708400",
   "metadata": {},
   "source": [
    "Installation of jupyter :\n",
    "    \n",
    "    pip install notebook\n",
    "    \n",
    "    python -m pip install notebook #--> python 2 \n",
    "    \n",
    "    py -m pip install notebook #----> python 3\n",
    "    \n",
    "    \n",
    "    Visual studio code -> Terminal -> CD to Working folder \n",
    "        1.jupyter notebook\n",
    "        2.python -m notebook / py -m notebook (alt)\n",
    "    \n",
    "Anaconda - > https://docs.anaconda.com/anaconda\n",
    "\n",
    "conda list\n",
    "\n",
    "conda create --name interview python matplotlib numpy pandas seaborn basemap scikit-learn --> Creating an environment \n",
    "refer : https://docs.conda.io/projects/conda/en/latest/user-guide/tasks/manage-environments.html#creating-an-environment-with-commands\n",
    "\n",
    "conda env list --> list out all the env u created \n",
    "    \n",
    "conda create --name interview --clone interviewdspt2  ---> cloning env\n",
    "Deactivate --> conda deactivate\n",
    "Activating the conda env -->       conda activate interviewdspt2"
   ]
  },
  {
   "cell_type": "code",
   "execution_count": null,
   "id": "5c9e1146",
   "metadata": {},
   "outputs": [],
   "source": [
    "Numpy - Numerical python open source library \n",
    "\n",
    "homogeneous --> same data types (Faster)\n",
    "\n",
    "hetero -> Structured Data  \n",
    "\n",
    "name=np.array(['a','b','c'])\n",
    "age=np.array([1,2,3])\n",
    "weight=np.array([20.0,30.5,18.5])\n",
    "\n",
    "data= np.zeros(3, dtype={'names':('name','age','weight'),\n",
    "                         'formats':('U10','i4','f8')})\n",
    "print(data.dtype)\n"
   ]
  },
  {
   "cell_type": "code",
   "execution_count": 19,
   "id": "2dc57593",
   "metadata": {},
   "outputs": [
    {
     "name": "stdout",
     "output_type": "stream",
     "text": [
      "1.23.5\n",
      "['a' 'b']\n",
      "(2, 2)\n",
      "4\n",
      "int32\n",
      "2\n",
      "6\n",
      "[ 1  4  7 10]\n",
      "[10  9  8  7  6  5  4  3  2  1]\n",
      "[[ 1  2  3  4  5]\n",
      " [ 6  7  8  9 10]]\n",
      "[1 2 3 4 5]\n",
      "[ 6  7  8  9 10]\n",
      "5.5\n",
      "2.8722813232690143\n",
      "5.5\n",
      "[ -2  -3  -4  -5  -6  -7  -8  -9 -10 -11]\n",
      "[ 2  4  6  8 10 12 14 16 18 20]\n",
      "[0 1 1 2 2 3 3 4 4 5]\n"
     ]
    }
   ],
   "source": [
    "#pip install numpy\n",
    "import numpy as np\n",
    "print(np.__version__)\n",
    "\n",
    "a=np.array(['a','b'])\n",
    "print(a)\n",
    "\n",
    "#create a 2 d array\n",
    "t=np.array([[1,2],[3,4]])\n",
    "\n",
    "print(t.shape)\n",
    "print(t.size)\n",
    "print(t.dtype)\n",
    "print(t.ndim)\n",
    "\n",
    "#accessing\n",
    "three=np.array([[[1,2,3],[1,4,5]],[[4,5,6],[7,8,9]]])\n",
    "print(three[1,0,2])\n",
    "\n",
    "#slicing\n",
    "o=np.array([1,2,3,4,5,6,7,8,9,10])\n",
    "print(o[::3]) #skip the third value\n",
    "print (o[::-1])#reverse the array \n",
    "print(o.reshape(2,5))#reshape to 2d\n",
    "ss=np.split(o,2)#split 2 data\n",
    "print(ss[0])\n",
    "print(ss[1])\n",
    "\n",
    "#mean , std , median\n",
    "print(np.mean(o))\n",
    "print(np.std(o))\n",
    "print(np.median(o))\n",
    "\n",
    "#bits\n",
    "\n",
    "#invert , left shit , right shfit\n",
    "print(np.invert(o))\n",
    "print(np.left_shift(o,1))\n",
    "print(np.right_shift(o,1))\n"
   ]
  },
  {
   "cell_type": "markdown",
   "id": "431311da",
   "metadata": {},
   "source": [
    "Task:\n",
    "You are given a X integer array matrix with space separated elements ( = rows and  = columns).\n",
    "Your task is to print the transpose and flatten results.\n",
    "Input Format:\n",
    "The first line contains the space separated values of  and .\n",
    "The next  lines contains the space separated elements of  columns.\n",
    "Output Format:\n",
    "First, print the transpose array and then print the flatten.\n",
    "Sample Input:\n",
    "2 2\n",
    "1 2\n",
    "3 4\n",
    "Sample Output:\n",
    "[[1 3]\n",
    " [2 4]]\n",
    "[1 2 3 4]"
   ]
  },
  {
   "cell_type": "code",
   "execution_count": 31,
   "id": "dd40a79d",
   "metadata": {},
   "outputs": [
    {
     "name": "stdout",
     "output_type": "stream",
     "text": [
      "[[2 1 3]\n",
      " [2 2 4]]\n",
      "[[2 2]\n",
      " [1 2]\n",
      " [3 4]]\n",
      "[[2 1 3]\n",
      " [2 2 4]]\n"
     ]
    }
   ],
   "source": [
    "import numpy as np\n",
    "\n",
    "arr= np.array([[2,1,3],[2,2,4]]) #2*3\n",
    "print(arr)\n",
    "Input=np.transpose(arr) #3*2\n",
    "print(Input)\n",
    "print(np.transpose(Input))\n"
   ]
  },
  {
   "cell_type": "code",
   "execution_count": null,
   "id": "3cef2dba",
   "metadata": {},
   "outputs": [],
   "source": []
  }
 ],
 "metadata": {
  "kernelspec": {
   "display_name": "Python 3 (ipykernel)",
   "language": "python",
   "name": "python3"
  },
  "language_info": {
   "codemirror_mode": {
    "name": "ipython",
    "version": 3
   },
   "file_extension": ".py",
   "mimetype": "text/x-python",
   "name": "python",
   "nbconvert_exporter": "python",
   "pygments_lexer": "ipython3",
   "version": "3.11.0"
  }
 },
 "nbformat": 4,
 "nbformat_minor": 5
}
