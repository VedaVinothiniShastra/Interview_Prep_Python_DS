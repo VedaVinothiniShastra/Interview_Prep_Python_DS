{
 "cells": [
  {
   "cell_type": "markdown",
   "id": "237affca",
   "metadata": {},
   "source": [
    "EDA:\n",
    "\n",
    "1.Exploratory data analysis (EDA) is used by data scientists to analyze and investigate data sets and summarize their main characteristics, often employing data visualization methods.\n",
    "2.It helps determine how best to manipulate data sources to get the answers you need, making it easier for data scientists to discover patterns, spot anomalies, test a hypothesis, or check assumptions\n",
    "3.EDA is primarily used to see what data can reveal beyond the formal modeling or hypothesis testing task and provides a provides a better understanding of data set variables and the relationships between them.\n",
    "4.It can also help determine if the statistical techniques you are considering for data analysis are appropriate\n",
    "\n",
    "\n",
    "why u want to learn EDA as a data scientist?\n",
    "\n",
    "1.Data scientists can use exploratory analysis to ensure the results they produce are valid and applicable to any desired business outcomes and goals. 2.EDA also helps stakeholders by confirming they are asking the right questions.\n",
    "3.EDA can help answer questions about standard deviations, categorical variables, and confidence intervals. \n",
    "4.Once EDA is complete and insights are drawn, its features can then be used for more sophisticated data analysis or modeling, including machine learning\n",
    "\n",
    "Exploratory data analysis tools:\n",
    "\n",
    "1.Clustering and dimension reduction techniques, which help create graphical displays of high-dimensional data containing many variables.\n",
    "2.Univariate visualization of each field in the raw dataset, with summary statistics.\n",
    "3.Bivariate visualizations and summary statistics that allow you to assess the relationship between each variable in the dataset and the target variable you’re looking at.\n",
    "4.Multivariate visualizations, for mapping and understanding interactions between different fields in the data.\n",
    "5.K-means Clustering is a clustering method in unsupervised learning where data points are assigned into K groups, i.e. the number of clusters, based on the distance from each group’s centroid. The data points closest to a particular centroid will be clustered under the same category. K-means Clustering is commonly used in market segmentation, pattern recognition, and image compression.\n",
    "6.Predictive models, such as linear regression, use statistics and data to predict outcomes.\n",
    "\n",
    "Types of exploratory data analysis:\n",
    "\n",
    "There are four primary types of EDA:\n",
    "\n",
    "1.Univariate non-graphical. This is simplest form of data analysis, where the data being analyzed consists of just one variable. Since it’s a single variable, it doesn’t deal with causes or relationships. The main purpose of univariate analysis is to describe the data and find patterns that exist within it.\n",
    "2.Univariate graphical. Non-graphical methods don’t provide a full picture of the data. Graphical methods are therefore required. Common types of univariate graphics include:\n",
    "Stem-and-leaf plots, which show all data values and the shape of the distribution.\n",
    "Histograms, a bar plot in which each bar represents the frequency (count) or proportion (count/total count) of cases for a range of values.\n",
    "Box plots, which graphically depict the five-number summary of minimum, first quartile, median, third quartile, and maximum.\n",
    "3.Multivariate nongraphical: Multivariate data arises from more than one variable. Multivariate non-graphical EDA techniques generally show the relationship between two or more variables of the data through cross-tabulation or statistics.\n",
    "4.Multivariate graphical: Multivariate data uses graphics to display relationships between two or more sets of data. The most used graphic is a grouped bar plot or bar chart with each group representing one level of one of the variables and each bar within a group representing the levels of the other variable.\n",
    "\n",
    "other multivariate graphical:\n",
    "\n",
    "1.Scatter plot, which is used to plot data points on a horizontal and a vertical axis to show how much one variable is affected by another.\n",
    "Multivariate chart, which is a graphical representation of the relationships between factors and a response.\n",
    "2.Run chart, which is a line graph of data plotted over time.\n",
    "3.Bubble chart, which is a data visualization that displays multiple circles (bubbles) in a two-dimensional plot.\n",
    "4.Heat map, which is a graphical representation of data where values are depicted by color.\n",
    "\n"
   ]
  },
  {
   "cell_type": "markdown",
   "id": "77309c8f",
   "metadata": {},
   "source": [
    "House Prices predicting :\n",
    "\n"
   ]
  }
 ],
 "metadata": {
  "kernelspec": {
   "display_name": "Python 3 (ipykernel)",
   "language": "python",
   "name": "python3"
  }
 },
 "nbformat": 4,
 "nbformat_minor": 5
}
